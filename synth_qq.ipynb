{
 "cells": [
  {
   "cell_type": "markdown",
   "metadata": {},
   "source": [
    "# The Heavy-Tail Phenomenon in hSGD\n",
    "\n",
    "This notebook contains the code for reproducing the random features experiments reported in the paper. \n",
    "\n",
    "The current code handles the case where the step-size $\\eta$, first eigenvalue of the training data and $\\delta$ are varying.\n"
   ]
  },
  {
   "cell_type": "code",
   "execution_count": 2,
   "metadata": {
    "scrolled": false
   },
   "outputs": [],
   "source": [
    "# Required libraries are listed below. \n",
    "import numpy as np\n",
    "import matplotlib.pyplot as plt\n",
    "%matplotlib inline\n",
    "import scipy.io as scio\n",
    "import math\n",
    "from joblib import Parallel, delayed\n",
    "from pandas import DataFrame\n",
    "from time import time\n",
    "\n",
    "import statsmodels.api as sm\n",
    "from scipy.stats import t"
   ]
  },
  {
   "cell_type": "code",
   "execution_count": 3,
   "metadata": {},
   "outputs": [],
   "source": [
    "# total number of data points \n",
    "\n",
    "\n",
    "n = 2000\n",
    "\n",
    "# dimension\n",
    "d = 200\n",
    "\n",
    "# Synthetic Data Generation\n",
    "sig_A = 1\n",
    "sig_x = 3\n",
    "sig_Y = 3\n",
    "\n",
    "np.random.seed(1)\n",
    "\n",
    "# explanatory vars.\n",
    "A = sig_A * np.random.randn(n,d)\n",
    "\n",
    "##normalization \n",
    "A = (A - A.min())/(A.max() - A.min())\n",
    "\n",
    "# true regressor\n",
    "x0 = sig_x * np.random.randn(d)\n",
    "\n",
    "# responses\n",
    "y = np.dot(A,x0) + sig_Y * np.random.randn(n)\n",
    "\n",
    "# Mode of the distribution\n",
    "x_star = np.dot(np.linalg.inv(np.dot(A.T,A)), np.dot(A.T,y))\n",
    "\n",
    "np.random.seed()"
   ]
  },
  {
   "cell_type": "code",
   "execution_count": 4,
   "metadata": {},
   "outputs": [
    {
     "name": "stdout",
     "output_type": "stream",
     "text": [
      "[INFO] Computing...\n",
      "        done in 0.001 minutes\n",
      "319.83131714104155\n"
     ]
    }
   ],
   "source": [
    "#Singular value decomposition of training data A\n",
    "\n",
    "\n",
    "P, E, QT = np.linalg.svd(A)\n",
    "\n",
    "sv = E[0]\n",
    "print(sv)\n"
   ]
  },
  {
   "cell_type": "code",
   "execution_count": 5,
   "metadata": {},
   "outputs": [],
   "source": [
    "# Number of iteratios\n",
    "K = 1000\n",
    "\n",
    "#regularization\n",
    "delta = 0\n",
    "\n",
    "#learning rate\n",
    "eta = 0.02\n",
    "\n",
    "#batchaize\n",
    "b=1\n",
    "\n"
   ]
  },
  {
   "cell_type": "code",
   "execution_count": 6,
   "metadata": {},
   "outputs": [
    {
     "name": "stdout",
     "output_type": "stream",
     "text": [
      "2.955185746221347\n"
     ]
    }
   ],
   "source": [
    " \"\"\"upper bound\"\"\"\n",
    "h_1 = 2 *b*n* (sv**2  + n*delta) / (eta * sv**4)+1\n",
    "print(h_1)"
   ]
  },
  {
   "cell_type": "code",
   "execution_count": 7,
   "metadata": {},
   "outputs": [
    {
     "name": "stdout",
     "output_type": "stream",
     "text": [
      "2.9089065027387946\n"
     ]
    }
   ],
   "source": [
    " \"\"\"lower bound\"\"\"\n",
    "Lam = np.dot(E.T, E)\n",
    "h_2 = 1 + 2 *b*n* (sv**2 + n*delta) / (eta * sv**4)+1 - Lam/sv**2\n",
    "print(h_2)"
   ]
  },
  {
   "cell_type": "code",
   "execution_count": 8,
   "metadata": {},
   "outputs": [
    {
     "data": {
      "text/plain": [
       "0.03737407118416092"
      ]
     },
     "execution_count": 8,
     "metadata": {},
     "output_type": "execute_result"
    }
   ],
   "source": [
    "(2 *b*n* (sv**2 + n*delta))/(sv**2 * Lam) # >learning rate"
   ]
  },
  {
   "cell_type": "code",
   "execution_count": 9,
   "metadata": {},
   "outputs": [],
   "source": [
    "# Loss function\n",
    "def loss_fn(x,A,y,nsamp,delta):\n",
    "    res = np.sum((np.dot(A,x) - y)**2)/(2*nsamp) + (delta*np.dot(x,x))/2\n",
    "    return res"
   ]
  },
  {
   "cell_type": "code",
   "execution_count": 10,
   "metadata": {},
   "outputs": [],
   "source": [
    "def sgd_linreg(A,Y,n,d,K,eta,b,delta,compute_loss = False,plot_loss= False):\n",
    "    \n",
    "    loss_sgd = np.zeros(K)\n",
    "\n",
    "    x_cur = 0.5 * np.random.randn(d)\n",
    "    \n",
    "    \n",
    "    if(compute_loss is True):\n",
    "        loss_sgd[0] = loss_fn(x_cur,A,Y,n,delta)\n",
    "\n",
    "    for k in range(1,K):\n",
    "        ix = np.random.permutation(n)\n",
    "        S_k = ix[0:int(b)]\n",
    "        A_k = A[S_k,:]\n",
    "        y_k = Y[S_k]\n",
    "        \n",
    "        grad = np.dot(A_k.T, np.dot(A_k,x_cur)) - np.dot(A_k.T, y_k) -delta*x_cur\n",
    "        grad = grad / b\n",
    "        x_cur = x_cur - eta * grad\n",
    "        \n",
    "\n",
    "        if(compute_loss is True):\n",
    "            loss_sgd[k] = loss_fn(x_cur,A,Y,n,delta)\n",
    "\n",
    "    x_final = x_cur \n",
    "    \n",
    "    if(plot_loss is True):\n",
    "        plt.figure()\n",
    "        plt.semilogy(loss_sgd)\n",
    "        #plt.plot(loss_sgd)\n",
    "\n",
    "        \n",
    "    return x_final"
   ]
  },
  {
   "cell_type": "code",
   "execution_count": 20,
   "metadata": {},
   "outputs": [
    {
     "name": "stdout",
     "output_type": "stream",
     "text": [
      "[INFO] SGD interation...\n",
      "        done in 0.514 minutes\n"
     ]
    }
   ],
   "source": [
    "### main result\n",
    "\n",
    "print(\"[INFO] SGD interation...\")\n",
    "t0 = time()\n",
    "\n",
    "# Numer of repetitions\n",
    "\n",
    "numRep = 1000\n",
    "\n",
    "x_fn = np.zeros((d,numRep))\n",
    "loss = np.zeros((K,numRep))\n",
    "\n",
    "tmp_res = Parallel(n_jobs=10)(delayed(sgd_linreg)(A,y,n,d,K,eta,b,delta,compute_loss= True) for i in range(numRep))\n",
    "tmp_res = np.array(tmp_res,dtype = object)\n",
    "        \n",
    "\n",
    "print(\"        done in %0.3f minutes\" % ((time() - t0)/60))\n"
   ]
  },
  {
   "cell_type": "code",
   "execution_count": 21,
   "metadata": {},
   "outputs": [],
   "source": [
    "Y = np.dot(QT, tmp_res.T)\n",
    "Z = Y[0,:]\n",
    "Z = Z - np.average(Z)\n",
    "Z = Z.astype('float64')"
   ]
  },
  {
   "cell_type": "code",
   "execution_count": 22,
   "metadata": {},
   "outputs": [
    {
     "data": {
      "image/png": "[encoded data removed]",
      "text/plain": [
       "<Figure size 800x600 with 1 Axes>"
      ]
     },
     "metadata": {},
     "output_type": "display_data"
    }
   ],
   "source": [
    "fig = plt.figure(figsize=(8, 6))\n",
    "axs = fig.subplots(1,1)\n",
    "sm.qqplot(Z, t,fit=True,line=\"45\", ax = axs)\n",
    "\n",
    "axs.set_xlabel('Quantiles of $t$-distribution', fontsize = 20)\n",
    "axs.set_ylabel('Quantiles of z', fontsize = 20)\n",
    "axs.tick_params(labelsize = 16)\n",
    "\n",
    "plt.show()"
   ]
  },
  {
   "cell_type": "code",
   "execution_count": null,
   "metadata": {},
   "outputs": [],
   "source": []
  }
 ],
 "metadata": {
  "kernelspec": {
   "display_name": "Python 3 (ipykernel)",
   "language": "python",
   "name": "python3"
  },
  "language_info": {
   "codemirror_mode": {
    "name": "ipython",
    "version": 3
   },
   "file_extension": ".py",
   "mimetype": "text/x-python",
   "name": "python",
   "nbconvert_exporter": "python",
   "pygments_lexer": "ipython3",
   "version": "3.11.4"
  }
 },
 "nbformat": 4,
 "nbformat_minor": 2
}
