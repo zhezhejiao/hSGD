{
 "cells": [
  {
   "cell_type": "markdown",
   "metadata": {},
   "source": [
    "# The Heavy-Tail Phenomenon in hSGD\n"
   ]
  },
  {
   "cell_type": "code",
   "execution_count": 1,
   "metadata": {
    "scrolled": false
   },
   "outputs": [],
   "source": [
    "# Required libraries are listed below. \n",
    "import numpy as np\n",
    "from sklearn.model_selection import train_test_split\n",
    "from sklearn.preprocessing import LabelBinarizer\n",
    "from sklearn.preprocessing import normalize\n",
    "from sklearn import datasets\n",
    "import matplotlib.pyplot as plt\n",
    "%matplotlib inline\n",
    "import scipy.io as scio\n",
    "from scipy.stats import invgamma\n",
    "import math\n",
    "from joblib import Parallel, delayed\n",
    "from pandas import DataFrame\n",
    "from time import time\n",
    "\n",
    "from scipy.stats import t\n",
    "import statsmodels.api as sm\n",
    "from statsmodels.graphics.gofplots import qqplot_2samples"
   ]
  },
  {
   "cell_type": "code",
   "execution_count": 2,
   "metadata": {},
   "outputs": [],
   "source": [
    "\"\"\"datasets loading\"\"\"\n",
    "def minist_dataset():\n",
    "    print(\"loading MNIST dataset...\")\n",
    "    digits = datasets.load_digits()\n",
    "    data = digits.data.astype(\"float\")\n",
    "    ##normalization I\n",
    "    #data = (data - data.min())/(data.max() - data.min())\n",
    "    ##normalization II\n",
    "    #row_norm = np.linalg.norm(data, axis=1, keepdims=True)\n",
    "    #data = np.divide(data, row_norm)\n",
    "    #normalization III\n",
    "    #data = normalize(data)\n",
    "    print(\"samples:{}, dimension:{}\".format(data.shape[0], data.shape[1]))\n",
    "    \n",
    "    \"\"\"training data and test data\"\"\"\n",
    "    #(trainX, testX, trainY, testY) = train_test_split(data, digits.target, test_size=0.2,random_state = 20,shuffle = True)\n",
    "    \n",
    "    label = LabelBinarizer().fit_transform(digits.target)\n",
    "    \n",
    "    #testY = LabelBinarizer().fit_transform(testY)\n",
    "    \n",
    "    return [data,label]"
   ]
  },
  {
   "cell_type": "code",
   "execution_count": 3,
   "metadata": {},
   "outputs": [],
   "source": [
    "\"\"\"Turn the one-hot to one-dimension\"\"\"\n",
    "def labeltransform(Y):\n",
    "    y = np.zeros(len(Y))\n",
    "    for i in range(0,len(Y)-1):\n",
    "        y_1 = np.nonzero(Y[int(i),:])\n",
    "        y[int(i)] = y_1[0]\n",
    "        \n",
    "    return 0.1*y"
   ]
  },
  {
   "cell_type": "code",
   "execution_count": 4,
   "metadata": {},
   "outputs": [],
   "source": [
    "\"\"\"ReLu activation function\"\"\"\n",
    "def sigma(Z):\n",
    "    return (np.maximum(Z, 0) - 0.5*(1/np.pi))/(0.5- 0.5*(1/np.pi))"
   ]
  },
  {
   "cell_type": "code",
   "execution_count": 5,
   "metadata": {},
   "outputs": [
    {
     "name": "stdout",
     "output_type": "stream",
     "text": [
      "loading MNIST dataset...\n",
      "samples:1797, dimension:64\n",
      "----------------Before----------------\n",
      "[0 0 1 0 0 0 0 0 0 0]\n",
      "\n",
      "\n",
      "----------------After----------------\n",
      "0.2\n"
     ]
    }
   ],
   "source": [
    "\"\"\"dataset we need\"\"\"\n",
    "[X, Y] = minist_dataset()\n",
    "\n",
    "y = labeltransform(Y)\n",
    "\n",
    "print('----------------Before----------------')\n",
    "print(Y[50])\n",
    "\n",
    "print('\\n\\n----------------After----------------')\n",
    "print(y[50])\n",
    "\n",
    "\n",
    "# total number of data points \n",
    "n=X.shape[0]\n",
    "\n",
    "# features\n",
    "n_0=X.shape[1]\n",
    "\n",
    "#feature matrix\n",
    "d = 200\n",
    "\n",
    "np.random.seed(1)\n",
    "\n",
    "W =np.random.randn(n_0, d)\n",
    "##Random features\n",
    "A = sigma( np.dot(X, W)/np.sqrt(n_0) )\n",
    "\n",
    "np.random.seed()\n",
    "\n",
    "##normalization \n",
    "A = (A - A.min())/(A.max() - A.min())\n"
   ]
  },
  {
   "cell_type": "code",
   "execution_count": 6,
   "metadata": {},
   "outputs": [
    {
     "name": "stdout",
     "output_type": "stream",
     "text": [
      "[INFO] SGD interation...\n",
      "93.48564024773313\n",
      "        done in 0.001 minutes\n"
     ]
    }
   ],
   "source": [
    "#Singular value decomposition of training data A\n",
    "P, E, QT = np.linalg.svd(A)\n",
    "#first sigular value\n",
    "sv = E[0]\n",
    "print(sv)\n"
   ]
  },
  {
   "cell_type": "code",
   "execution_count": 7,
   "metadata": {},
   "outputs": [],
   "source": [
    "\"\"\"some parameters\"\"\"\n",
    "#regularization strength\n",
    "delta = 0\n",
    "#learning rate\n",
    "eta = 0.2\n",
    "b=1"
   ]
  },
  {
   "cell_type": "code",
   "execution_count": 8,
   "metadata": {},
   "outputs": [
    {
     "name": "stdout",
     "output_type": "stream",
     "text": [
      "3.056166426902537\n"
     ]
    }
   ],
   "source": [
    " \"\"\"upper bound\"\"\"\n",
    "#h_t = 2 *b*n* (sv**2 + n*delta) / (eta * sv**4)+1\n",
    "h_1 = 2 *b*n* (sv**2  + n*delta) / (eta * sv**4)+1\n",
    "print(h_1)\n",
    "#print(int(h_t))"
   ]
  },
  {
   "cell_type": "code",
   "execution_count": 9,
   "metadata": {},
   "outputs": [
    {
     "name": "stdout",
     "output_type": "stream",
     "text": [
      "2.7017259215895226\n"
     ]
    }
   ],
   "source": [
    " \"\"\"lower bound\"\"\"\n",
    "Lam = np.dot(E.T, E)\n",
    "h_2 = 1 + 2 *b*n* (sv**2 + n*delta) / (eta * sv**4)+1 - Lam/sv**2\n",
    "print(h_2)\n",
    "#print(int(h_t))"
   ]
  },
  {
   "cell_type": "code",
   "execution_count": 10,
   "metadata": {},
   "outputs": [
    {
     "data": {
      "text/plain": [
       "0.30361856705213514"
      ]
     },
     "execution_count": 10,
     "metadata": {},
     "output_type": "execute_result"
    }
   ],
   "source": [
    "(2 *b*n* (sv**2 + n*delta))/(sv**2 * Lam) # >learning rate"
   ]
  },
  {
   "cell_type": "code",
   "execution_count": 11,
   "metadata": {},
   "outputs": [],
   "source": [
    "# Loss function\n",
    "def loss_fn(x,A,y,nsamp,delta):\n",
    "    res = np.sum((np.dot(A,x) - y)**2)/(2*nsamp) + (delta/2)*np.dot(x,x)\n",
    "    return res"
   ]
  },
  {
   "cell_type": "code",
   "execution_count": 12,
   "metadata": {},
   "outputs": [],
   "source": [
    "def sgd_linreg(A,Y,n,d,K,eta,b,delta,compute_loss = False, plot_loss = False):\n",
    "    loss_sgd = np.zeros(K)\n",
    "    \n",
    "    \n",
    "    x_cur = 0.1 * np.random.randn(d)\n",
    "    \n",
    "    \n",
    "    if(compute_loss is True):\n",
    "        loss_sgd[0] = loss_fn(x_cur,A,Y,n,delta)\n",
    "\n",
    "    for k in range(1,K):\n",
    "        ix = np.random.permutation(n)\n",
    "        S_k = ix[0:int(b)]\n",
    "        A_k = A[S_k,:]\n",
    "        y_k = Y[S_k]\n",
    "        \n",
    "        grad = np.dot(A_k.T, np.dot(A_k,x_cur)) - np.dot(A_k.T, y_k) - delta*x_cur\n",
    "        grad = grad / b\n",
    "        x_cur = x_cur - eta * grad\n",
    "        \n",
    "        if(compute_loss is True):\n",
    "            loss_sgd[k] = loss_fn(x_cur,A,Y,n,delta)\n",
    "\n",
    "    x_final = x_cur\n",
    "\n",
    "    if(plot_loss is True):\n",
    "        plt.figure()\n",
    "        plt.semilogy(loss_sgd)\n",
    "        #plt.plot(loss_sgd)\n",
    "        \n",
    "    return x_final"
   ]
  },
  {
   "cell_type": "code",
   "execution_count": 13,
   "metadata": {},
   "outputs": [],
   "source": [
    "# Number of iteratios\n",
    "K = 10000"
   ]
  },
  {
   "cell_type": "code",
   "execution_count": 17,
   "metadata": {},
   "outputs": [
    {
     "name": "stdout",
     "output_type": "stream",
     "text": [
      "[INFO] SGD interation...\n",
      "        done in 6.648 minutes\n"
     ]
    }
   ],
   "source": [
    "### main result\n",
    "\n",
    "\n",
    "print(\"[INFO] SGD interation...\")\n",
    "t0 = time()\n",
    "\n",
    "# Numer of repetitions\n",
    "\n",
    "numRep = 1000\n",
    "\n",
    "\n",
    "x_fn = np.zeros((d,numRep))\n",
    "loss = np.zeros((K,numRep))\n",
    "\n",
    "\n",
    "tmp_res = Parallel(n_jobs=10)(delayed(sgd_linreg)(A,y,n,d,K,eta,b,delta,compute_loss= True) for i in range(numRep))\n",
    "tmp_res = np.array(tmp_res,dtype = object)\n",
    "\n",
    "\n",
    "\n",
    "print(\"        done in %0.3f minutes\" % ((time() - t0)/60))\n"
   ]
  },
  {
   "cell_type": "code",
   "execution_count": 18,
   "metadata": {},
   "outputs": [],
   "source": [
    "Y = np.dot(QT, tmp_res.T)\n",
    "Z = Y[0,:]\n",
    "Z = Z - np.average(Z)\n",
    "Z = Z.astype('float64')"
   ]
  },
  {
   "cell_type": "code",
   "execution_count": 22,
   "metadata": {
    "scrolled": false
   },
   "outputs": [
    {
     "data": {
      "image/png": "[encoded data removed]",
      "text/plain": [
       "<Figure size 800x600 with 1 Axes>"
      ]
     },
     "metadata": {},
     "output_type": "display_data"
    }
   ],
   "source": [
    "fig = plt.figure(figsize=(8, 6))\n",
    "axs = fig.subplots(1,1)\n",
    "sm.qqplot(Z, t,fit=True,line=\"45\", ax = axs)\n",
    "\n",
    "axs.set_xlabel('Quantiles of $t$-distribution', fontsize = 20)\n",
    "axs.set_ylabel('Quantiles of z', fontsize = 20)\n",
    "axs.tick_params(labelsize = 16)\n",
    "\n",
    "plt.show()"
   ]
  },
  {
   "cell_type": "code",
   "execution_count": null,
   "metadata": {},
   "outputs": [],
   "source": []
  }
 ],
 "metadata": {
  "kernelspec": {
   "display_name": "Python 3 (ipykernel)",
   "language": "python",
   "name": "python3"
  },
  "language_info": {
   "codemirror_mode": {
    "name": "ipython",
    "version": 3
   },
   "file_extension": ".py",
   "mimetype": "text/x-python",
   "name": "python",
   "nbconvert_exporter": "python",
   "pygments_lexer": "ipython3",
   "version": "3.11.4"
  }
 },
 "nbformat": 4,
 "nbformat_minor": 2
}
